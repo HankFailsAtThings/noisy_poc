{
 "cells": [
  {
   "cell_type": "code",
   "execution_count": 4,
   "id": "cae94045",
   "metadata": {},
   "outputs": [],
   "source": [
    "import json\n",
    "from os import listdir"
   ]
  },
  {
   "cell_type": "code",
   "execution_count": 94,
   "id": "c5b2d0bc",
   "metadata": {},
   "outputs": [],
   "source": [
    "def load_matchup_files(players_struct,player,matchup):\n",
    "    round_files = players_struct[player][matchup]\n",
    "    \n",
    "    rounds = []\n",
    "    for rnd in round_files:\n",
    "        f = open(rnd)\n",
    "        rounds.append(json.load(f))\n",
    "        f.close()\n",
    "    return rounds\n",
    "\n",
    "def build_players_struct(base_dir):\n",
    "    #first I need to figure out what all the folders are\n",
    "    player_folders=listdir(base_dir)\n",
    "    #from that, parse and figure out how many players there are\n",
    "    indices = []\n",
    "    for name in player_folders:\n",
    "        pieces = name.split('player')\n",
    "        indices.append(int(pieces[1]))\n",
    "        indices.append(int(pieces[-1]))\n",
    "    min_idx = min(indices)\n",
    "    max_idx = max(indices)\n",
    "    players = []\n",
    "    for i in range(min_idx, max_idx+1):\n",
    "        players.append('player'+str(i))\n",
    "\n",
    "    #now with a list of players, if player is in player folder,\n",
    "    #then it is to be included in the \n",
    "    players_struct = {};\n",
    "    for player in players:\n",
    "        players_struct[player] = {}\n",
    "        for fldr in player_folders:\n",
    "            if player in fldr:\n",
    "                round_folders = listdir(base_dir+fldr)\n",
    "                players_struct[player][fldr] = []\n",
    "                for rnd in round_folders:\n",
    "                    players_struct[player][fldr].append(base_dir+fldr+'/'+rnd)\n",
    "    return players_struct\n",
    "def get_matchup_scores(rounds, player_name, matchup_name):\n",
    "    #can check if last character matches, if it does, reverse, otherwise, normal scoring\n",
    "    a_score = 0\n",
    "    b_score = 0\n",
    "    a_strat = list(rounds[0]['player_a'].keys())[0]\n",
    "    b_strat = list(rounds[0]['player_b'].keys())[0]\n",
    "\n",
    "    for rnd in rounds:\n",
    "        a_score += rnd['player_a'][a_strat]['player']['play']['my_score']\n",
    "        b_score += rnd['player_b'][b_strat]['player']['play']['my_score']\n",
    "\n",
    "    if player_name[-1]==matchup_name[-1]:\n",
    "        return b_score, a_score\n",
    "    else:\n",
    "        return a_score, b_score\n",
    "\n",
    "def get_all_player_scores(players_struct):\n",
    "    players = list(players_struct.keys())\n",
    "    all_match_scores = {}\n",
    "    for player_name in players:\n",
    "        all_match_scores = get_player_score(players_struct,player_name,all_match_scores)\n",
    "    all_match_scores    \n",
    "    return all_match_scores\n",
    "\n",
    "def get_player_score(players_struct, player_name, all_match_scores):\n",
    "    matchups = list(players_struct[player_name].keys())\n",
    "    all_match_scores[player_name] = 0\n",
    "\n",
    "    for matchup_name in matchups:\n",
    "        rounds = load_matchup_files(players_struct,player_name, matchup_name)\n",
    "        all_match_scores[player_name] += get_matchup_scores(rounds,player_name,matchup_name)[0]\n",
    "    return all_match_scores\n",
    "\n",
    "def get_matchup_strats(matchup,player_name,matchup_name):\n",
    "    a_strat = list(matchup[0]['player_a'].keys())[0]\n",
    "    b_strat = list(matchup[0]['player_b'].keys())[0]\n",
    "    #need to check that player name is in the right order\n",
    "    if player_name[-1]==matchup_name[-1]:\n",
    "        return b_strat, a_strat\n",
    "    else:\n",
    "        return a_strat, b_strat"
   ]
  },
  {
   "cell_type": "code",
   "execution_count": 170,
   "id": "33432b83",
   "metadata": {},
   "outputs": [],
   "source": [
    "#base_dir = \"/home/kennethmclarney/Documents/RustProjects/noisygames/test_runs/Year2022Month1Day21Hour17Min56Sec7/\"\n",
    "base_dir = \"/home/kennethmclarney/Documents/RustProjects/noisygames/test_runs/Year2022Month1Day23Hour2Min26Sec33/\"\n",
    "#great, now I've got a nice setup to organize results.\n",
    "players_struct = build_players_struct(base_dir)\n",
    "all_scores = get_all_player_scores(players_struct)"
   ]
  },
  {
   "cell_type": "code",
   "execution_count": 195,
   "id": "7e05d4b0",
   "metadata": {},
   "outputs": [],
   "source": [
    "#in the future this can be handled more carefully\n",
    "strategies=['AlwaysDefect','GrimTrigger','TitForTat','RandomDefect']\n",
    "strat_vs_strat = {}\n",
    "for strat_i in strategies:\n",
    "    strat_vs_strat[strat_i] = {}\n",
    "    for strat_j in strategies:\n",
    "        strat_vs_strat[strat_i][strat_j]=0\n",
    "\n",
    "players = list(players_struct.keys())\n",
    "for player_name in players:\n",
    "    matchups = list(players_struct[player_name].keys())\n",
    "    for matchup_name in matchups:\n",
    "        matchup=load_matchup_files(players_struct, player_name, matchup_name)\n",
    "        #determine score and get the strategies\n",
    "        scores=get_matchup_scores(matchup, player_name, matchup_name)\n",
    "        strats=get_matchup_strats(matchup, player_name, matchup_name)\n",
    "        #huh, when it's the same, how do we want to handle it? I guess it's overall points scored.\n",
    "        if strats[0] == strats[1]:\n",
    "            strat_vs_strat[strats[0]][strats[1]]+=scores[0]\n",
    "            strat_vs_strat[strats[1]][strats[0]]+=scores[1]\n",
    "        else:\n",
    "            strat_vs_strat[strats[0]][strats[1]]+=scores[0]\n",
    "strat_vs_strat"
   ]
  },
  {
   "cell_type": "code",
   "execution_count": 196,
   "id": "6323f4c5",
   "metadata": {},
   "outputs": [],
   "source": [
    "#display results"
   ]
  },
  {
   "cell_type": "code",
   "execution_count": 212,
   "id": "8cf5ce63",
   "metadata": {},
   "outputs": [],
   "source": [
    "import matplotlib.pyplot as plt"
   ]
  },
  {
   "cell_type": "code",
   "execution_count": null,
   "id": "52bc76b3",
   "metadata": {},
   "outputs": [],
   "source": [
    "points_mtx = []\n",
    "for idx_i in range(len(strategies)):\n",
    "    points_mtx.append([])\n",
    "    for idx_j in range(len(strategies)):\n",
    "        points_mtx[-1].append(strat_vs_strat[strategies[idx_i]][strategies[idx_j]])\n",
    "    points_mtx[-1].append(sum(list(strat_vs_strat[strategies[idx_i]].values())))\n",
    "points_mtx"
   ]
  },
  {
   "cell_type": "code",
   "execution_count": 235,
   "id": "bd25b74f",
   "metadata": {},
   "outputs": [],
   "source": [
    "row_strats=strategies\n",
    "col_strats=row_strats.copy()\n",
    "col_strats.append(\"Total\")"
   ]
  },
  {
   "cell_type": "code",
   "execution_count": 314,
   "id": "ff4a02b8",
   "metadata": {},
   "outputs": [],
   "source": [
    "fig, ax = plt.subplots()\n",
    "ax.set_axis_off()\n",
    "fig.set_size_inches(60,20)\n",
    "tbl = plt.table( cellText = points_mtx,\n",
    "                colLabels = col_strats,\n",
    "                rowLabels = row_strats,\n",
    "                rowColours = ['skyblue']*4,\n",
    "                 colColours = ['skyblue']*5,\n",
    "                 colWidths = [.04]*5,\n",
    "                 cellLoc = 'center',\n",
    "                 loc = 'upper left'\n",
    "                )\n",
    "tbl.auto_set_font_size(False)\n",
    "tbl.set_fontsize(72)\n",
    "tbl.scale(5,20)\n",
    "ax.set_title('If Playing Row, Performance Against Column',\n",
    "            fontweight = \"bold\", fontsize=84, loc='left' )\n",
    "\n",
    "plt.savefig('RowVsCol_Payoffs.png',dpi = 100)"
   ]
  },
  {
   "cell_type": "code",
   "execution_count": null,
   "id": "18919b41",
   "metadata": {},
   "outputs": [],
   "source": []
  }
 ],
 "metadata": {
  "kernelspec": {
   "display_name": "Python 3 (ipykernel)",
   "language": "python",
   "name": "python3"
  },
  "language_info": {
   "codemirror_mode": {
    "name": "ipython",
    "version": 3
   },
   "file_extension": ".py",
   "mimetype": "text/x-python",
   "name": "python",
   "nbconvert_exporter": "python",
   "pygments_lexer": "ipython3",
   "version": "3.9.7"
  }
 },
 "nbformat": 4,
 "nbformat_minor": 5
}
